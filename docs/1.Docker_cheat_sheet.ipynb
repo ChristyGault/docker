{
 "cells": [
  {
   "cell_type": "markdown",
   "id": "26e48c20",
   "metadata": {},
   "source": [
    "### docker run"
   ]
  },
  {
   "cell_type": "markdown",
   "id": "c36d4433",
   "metadata": {},
   "source": [
    "Use the following Docker run command to start an interactive shell session with a container launched from the image specified by image_name:tag_name:"
   ]
  },
  {
   "cell_type": "code",
   "execution_count": null,
   "id": "293f991e",
   "metadata": {},
   "outputs": [],
   "source": [
    " docker run -it image_name:tag_name bash"
   ]
  },
  {
   "cell_type": "markdown",
   "id": "8818c46c",
   "metadata": {},
   "source": [
    "Get out of the interactive session."
   ]
  },
  {
   "cell_type": "code",
   "execution_count": null,
   "id": "7fce7cf5",
   "metadata": {},
   "outputs": [],
   "source": [
    "exit"
   ]
  },
  {
   "cell_type": "markdown",
   "id": "1910e4f9",
   "metadata": {},
   "source": [
    "### docker ps"
   ]
  },
  {
   "cell_type": "markdown",
   "id": "f8ca0f54",
   "metadata": {},
   "source": [
    "list active container processes"
   ]
  },
  {
   "cell_type": "code",
   "execution_count": null,
   "id": "a0a3e680",
   "metadata": {},
   "outputs": [],
   "source": [
    "docker ps"
   ]
  },
  {
   "cell_type": "raw",
   "id": "550d1106",
   "metadata": {},
   "source": [
    "CONTAINER ID    IMAGE    COMMAND    CREATED          STATUS        PORTS    NAMES\n",
    "e61e8081866d       ubuntu      “bash”         2 minutes ago     Up 2 minutes         keen_gauss"
   ]
  },
  {
   "cell_type": "markdown",
   "id": "f472ee04",
   "metadata": {},
   "source": [
    "### docker images"
   ]
  },
  {
   "cell_type": "markdown",
   "id": "bf90b778",
   "metadata": {},
   "source": [
    "See the images you've just created."
   ]
  },
  {
   "cell_type": "code",
   "execution_count": null,
   "id": "625f73e0",
   "metadata": {},
   "outputs": [],
   "source": [
    "docker images"
   ]
  },
  {
   "cell_type": "raw",
   "id": "62c18c5b",
   "metadata": {},
   "source": [
    "REPOSITORY     TAG        IMAGE ID          CREATED            SIZE\n",
    "ubuntu                 latest      775349758637    5 minutes ago      64.2MB"
   ]
  },
  {
   "cell_type": "markdown",
   "id": "40ef2fca",
   "metadata": {},
   "source": [
    "### Dockerfile script"
   ]
  },
  {
   "cell_type": "markdown",
   "id": "b3ccd111",
   "metadata": {},
   "source": [
    "Common statements used when building a Dockerfile:"
   ]
  },
  {
   "cell_type": "markdown",
   "id": "aa659180",
   "metadata": {},
   "source": [
    "| Command | Purpose\n",
    "| :- | :- |\n",
    "| FROM | To specify the parent image.\n",
    "| WORKDIR | To set the working directory for any commands that follow in the Dockerfile. |\n",
    "| RUN | To install any applications and packages required for your container. |\n",
    "| COPY | To copy over files or directories from a specific location.|\n",
    "| ADD | As COPY, but also able to handle remote URLs and unpack compressed files. |\n",
    "| ENTRYPOINT | Command that will always be executed when the container starts. If not specified, the default is /bin/sh -c |\n",
    "| CMD | Arguments passed to the entrypoint. If ENTRYPOINT is not set (defaults to /bin/sh -c), the CMD will be the commands the container executes.|\n",
    "| EXPOSE | To define which port through which to access your container application.| \n",
    "| LABEL | To add metadata to the image. |"
   ]
  },
  {
   "cell_type": "markdown",
   "id": "cbcd1406",
   "metadata": {},
   "source": [
    "### .dockerignore"
   ]
  },
  {
   "cell_type": "markdown",
   "id": "ed5d4270",
   "metadata": {},
   "source": [
    ".dockerignore files play an important role in creating more compact, faster-running containers – by providing a way to prevent sensitive or unnecessary files and directories from making their way into your image builds. Your .dockerignore file should be located in the root directory, known as the build context, from which you intend to build your image. This will be either your current working directory or the path you specify in the Docker build command that we’ll discuss below."
   ]
  },
  {
   "cell_type": "markdown",
   "id": "8e909d9b",
   "metadata": {},
   "source": [
    "### docker build"
   ]
  },
  {
   "cell_type": "markdown",
   "id": "89bf9103",
   "metadata": {},
   "source": [
    "Use the -t flag to set an image name and tag. In the example below, the image is built from within the same directory as the Dockerfile and the context, as the . argument simply tells the Docker daemon to build the image from the files and folders in the current working directory."
   ]
  },
  {
   "cell_type": "code",
   "execution_count": null,
   "id": "a96c69eb",
   "metadata": {},
   "outputs": [],
   "source": [
    "docker build -t my-nginx:0.1 ."
   ]
  },
  {
   "cell_type": "code",
   "execution_count": null,
   "id": "3389baad",
   "metadata": {},
   "outputs": [],
   "source": []
  }
 ],
 "metadata": {
  "kernelspec": {
   "display_name": "Python 3 (ipykernel)",
   "language": "python",
   "name": "python3"
  },
  "language_info": {
   "codemirror_mode": {
    "name": "ipython",
    "version": 3
   },
   "file_extension": ".py",
   "mimetype": "text/x-python",
   "name": "python",
   "nbconvert_exporter": "python",
   "pygments_lexer": "ipython3",
   "version": "3.10.6"
  }
 },
 "nbformat": 4,
 "nbformat_minor": 5
}
